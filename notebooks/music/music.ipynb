{
 "cells": [
  {
   "cell_type": "code",
   "execution_count": 41,
   "metadata": {},
   "outputs": [],
   "source": [
    "import os\n",
    "import math\n",
    "import torch\n",
    "from torch.autograd import Variable\n",
    "from torch.optim import Adam\n",
    "from torch import nn\n",
    "import torch.nn.functional as F\n",
    "from torchvision.datasets import mnist\n",
    "from torchvision import transforms\n",
    "from torch.utils.data import TensorDataset, DataLoader, random_split, Dataset\n",
    "from scipy.io import wavfile"
   ]
  },
  {
   "cell_type": "code",
   "execution_count": null,
   "metadata": {},
   "outputs": [],
   "source": [
    "NUM_CLASSES = 3\n",
    "BATCH_SIZE = 20\n",
    "LEARING_RATE = 0.001"
   ]
  },
  {
   "cell_type": "code",
   "execution_count": 64,
   "metadata": {},
   "outputs": [],
   "source": [
    "class MusicDataset(Dataset):\n",
    "    def __init__(self, directory, genres):\n",
    "        self.directory = directory\n",
    "        self.files = []\n",
    "        for label, genre in enumerate(genres):\n",
    "            genre_path = os.path.join(directory, genre)\n",
    "            self.files.extend([(os.path.join(genre_path, f), label) for f in os.listdir(genre_path)])\n",
    "\n",
    "    def __getitem__(self, index):\n",
    "        song, label = self.files[index]\n",
    "        _, data = wavfile.read(f'{self.directory}/{song}')\n",
    "        tensor = torch.Tensor(data) / (1 << 31)\n",
    "        return tensor, torch.IntTensor([label])\n",
    "    \n",
    "    def __len__(self):\n",
    "        return len(self.files)\n",
    "\n",
    "d = MusicDataset('.', ['rock', 'electro', 'classic'])\n",
    "len(d)\n",
    "\n",
    "train, validate = random_split(d, [900, 300])"
   ]
  }
 ],
 "metadata": {
  "kernelspec": {
   "display_name": "Python 3",
   "language": "python",
   "name": "python3"
  },
  "language_info": {
   "codemirror_mode": {
    "name": "ipython",
    "version": 3
   },
   "file_extension": ".py",
   "mimetype": "text/x-python",
   "name": "python",
   "nbconvert_exporter": "python",
   "pygments_lexer": "ipython3",
   "version": "3.7.1"
  }
 },
 "nbformat": 4,
 "nbformat_minor": 2
}
