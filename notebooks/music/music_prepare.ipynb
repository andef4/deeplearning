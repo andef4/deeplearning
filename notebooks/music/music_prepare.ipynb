{
 "cells": [
  {
   "cell_type": "markdown",
   "metadata": {},
   "source": [
    "# Music preparation\n",
    "This notebook generates 10 second samples from a local music library and helps the user to generate labels for each song.\n",
    "\n",
    "This notebook requires a manual step (labeling the data), please read the comment in each cell how it works.\n",
    "\n",
    "Also, ffmpeg must be installed and available in the $PATH."
   ]
  },
  {
   "cell_type": "code",
   "execution_count": null,
   "metadata": {},
   "outputs": [],
   "source": [
    "!pip install python-slugify"
   ]
  },
  {
   "cell_type": "code",
   "execution_count": 4,
   "metadata": {},
   "outputs": [],
   "source": [
    "import os\n",
    "import random\n",
    "from slugify import slugify\n",
    "import json"
   ]
  },
  {
   "cell_type": "code",
   "execution_count": 5,
   "metadata": {},
   "outputs": [],
   "source": [
    "# set config variables here\n",
    "\n",
    "# the directory of the music library. the notebook expects subdirectories \n",
    "# to have a specific genre which will be defined in a json file in the next cell\n",
    "# if your music library is already sorted by genre, use the last cell in this notebook\n",
    "DIRECTORY = './music_library/'\n",
    "\n",
    "# the genres in the music library\n",
    "GENRES = ['electro', 'rock']\n",
    "MUSIC_FILE_TYPES = ['mp3', 'wma', 'ogg', 'flac', 'm4a']\n",
    "\n",
    "SONGS_PER_GENRE = 400"
   ]
  },
  {
   "cell_type": "code",
   "execution_count": 6,
   "metadata": {
    "scrolled": true
   },
   "outputs": [],
   "source": [
    "# this cell writes out an initial artists.json file containing all direct\n",
    "# subdirectories of DIRECTRY defined above\n",
    "# copy this file for each of your genres in the music directory\n",
    "# (e.g. electro.json, rock.json) and edit the file to only contain directories of the\n",
    "# respective genre\n",
    "directories = !find $DIRECTORY -maxdepth 1 -type d\n",
    "directories = [f.replace(f'{DIRECTORY}/', '') for f in directories][1:]\n",
    "with open('artists.json', 'w') as f:\n",
    "    json.dump(directories, f, indent=2)"
   ]
  },
  {
   "cell_type": "code",
   "execution_count": 7,
   "metadata": {},
   "outputs": [],
   "source": [
    "from collections import defaultdict\n",
    "\n",
    "def ffmpeg_convert(source, dest):\n",
    "    ret = os.system(f'ffmpeg -i \"{source}\" -ss 60 -t 10 -ac 1 -ar 44100 \"{dest}\"')\n",
    "    if ret != 0:\n",
    "        return False\n",
    "    try:\n",
    "        size = os.path.getsize(dest)\n",
    "    except IOError as ex:\n",
    "        return False\n",
    "    # sample rate * seconds * sample size\n",
    "    if size < 44100 * 10 * 2:\n",
    "        os.unlink(dest)\n",
    "        return False\n",
    "    return True\n",
    "\n",
    "def convert(files, artists, out_directory, count):\n",
    "    genre_files = defaultdict(lambda: list())\n",
    "    for f in files:\n",
    "        artist = f.split('/')[0]\n",
    "        if artist in artists:\n",
    "            genre_files[artist].append(f)\n",
    "\n",
    "    success_count = 0\n",
    "    while True:\n",
    "        artist, files = random.choice(list(genre_files.items()))\n",
    "        song = random.choice(files)\n",
    "        files.remove(song)\n",
    "        if len(files) == 0:\n",
    "            del genre_files[artist]\n",
    "        source = f'{DIRECTORY}/{song}'\n",
    "        dest = f'{out_directory}/{slugify(song)}.wav'\n",
    "        ret = ffmpeg_convert(source, dest)\n",
    "        if ret:\n",
    "            success_count += 1\n",
    "            if success_count == count:\n",
    "                return\n",
    "\n",
    "def filter_file_type(f):\n",
    "    for file_type in MUSIC_FILE_TYPES:\n",
    "        if f.lower().endswith(f'.{file_type}'):\n",
    "            return True\n",
    "    return False"
   ]
  },
  {
   "cell_type": "code",
   "execution_count": 8,
   "metadata": {},
   "outputs": [],
   "source": [
    "files = !find $DIRECTORY -type f\n",
    "files = [f.replace(f'{DIRECTORY}/', '') for f in files][1:]\n",
    "files = list(filter(filter_file_type, files))\n",
    "\n",
    "for genre in GENRES:\n",
    "    !rm -rf $genre\n",
    "    !mkdir $genre\n",
    "    with open(f'{genre}.json') as f:\n",
    "        artists = json.load(f)\n",
    "    convert(files, artists, genre, SONGS_PER_GENRE)"
   ]
  },
  {
   "cell_type": "code",
   "execution_count": 10,
   "metadata": {},
   "outputs": [],
   "source": [
    "# similar code but for a library where music is already sorted by genre\n",
    "!rm -rf classic\n",
    "!mkdir classic\n",
    "\n",
    "CLASSIC_DIRECTORY = './classic_music/'\n",
    "files = !find \"$CLASSIC_DIRECTORY\" -type f\n",
    "files = [f.replace(f'{CLASSIC_DIRECTORY}/', '') for f in files][1:]\n",
    "random.shuffle(files)\n",
    "success_count = 0\n",
    "i = 0\n",
    "while True:\n",
    "    song = files[i]\n",
    "    i += 1\n",
    "    source = f'{CLASSIC_DIRECTORY}/{song}'\n",
    "    dest = f'classic/{slugify(song)}.wav'\n",
    "    ret = ffmpeg_convert(source, dest)\n",
    "    if ret:\n",
    "        success_count += 1\n",
    "        if success_count == SONGS_PER_GENRE:\n",
    "            break"
   ]
  }
 ],
 "metadata": {
  "kernelspec": {
   "display_name": "Python 3",
   "language": "python",
   "name": "python3"
  },
  "language_info": {
   "codemirror_mode": {
    "name": "ipython",
    "version": 3
   },
   "file_extension": ".py",
   "mimetype": "text/x-python",
   "name": "python",
   "nbconvert_exporter": "python",
   "pygments_lexer": "ipython3",
   "version": "3.7.1"
  }
 },
 "nbformat": 4,
 "nbformat_minor": 2
}
