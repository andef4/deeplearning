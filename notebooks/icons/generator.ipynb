{
 "cells": [
  {
   "cell_type": "code",
   "execution_count": null,
   "metadata": {},
   "outputs": [],
   "source": [
    "import os\n",
    "import random\n",
    "from PIL import Image\n",
    "WIDTH = 707\n",
    "HEIGHT = 557"
   ]
  },
  {
   "cell_type": "code",
   "execution_count": null,
   "metadata": {},
   "outputs": [],
   "source": [
    "icon_files = os.listdir('icons/')\n",
    "icons = {}\n",
    "for f in icon_files:\n",
    "    icons[f[:-4]] = Image.open(f'icons/{f}')\n",
    "icons = list(icons.items())\n",
    "background = Image.open('background.jpg')\n",
    "background = background.convert('RGBA')"
   ]
  },
  {
   "cell_type": "code",
   "execution_count": null,
   "metadata": {},
   "outputs": [],
   "source": [
    "QUADRANTS = [\n",
    "    (0, 0),\n",
    "    (1, 0),\n",
    "    (2, 0),\n",
    "    (0, 1),\n",
    "    (1, 1),\n",
    "    (2, 1),\n",
    "    (0, 2),\n",
    "    (1, 2),\n",
    "    (2, 2),\n",
    "]"
   ]
  },
  {
   "cell_type": "code",
   "execution_count": null,
   "metadata": {},
   "outputs": [],
   "source": [
    "DIRECTORY = 'images_single/'\n",
    "random.seed(5)\n",
    "!rm -rf $DIRECTORY\n",
    "!mkdir -p $DIRECTORY\n",
    "\n",
    "for i in range(50000):\n",
    "    used_icons = []\n",
    "    image = background.copy()\n",
    "    quadrants = list(QUADRANTS)\n",
    "    \n",
    "    #for _ in range(random.randint(, 3)):\n",
    "    for _ in range(0, 1):\n",
    "        icon_name, icon = random.choice(icons)\n",
    "        used_icons.append(icon_name)\n",
    "\n",
    "        # resize\n",
    "        width = random.randint(200, 500)\n",
    "        height = int(HEIGHT * (width / WIDTH))\n",
    "        icon = icon.resize((width, height))\n",
    "\n",
    "        # rotate\n",
    "        icon = icon.rotate(random.randint(0, 360))\n",
    "\n",
    "        # position\n",
    "        q = random.choice(quadrants)\n",
    "        quadrants.remove(q)\n",
    "        x = q[0] * 250 # + random.randint(0, 100)\n",
    "        y = q[1] * 250 # + random.randint(0, 100)\n",
    "\n",
    "        image.paste(icon, (x, y), icon)\n",
    "    image = image.convert('RGB')\n",
    "    image = image.resize((100, 100), Image.LANCZOS)\n",
    "    filename = '_'.join(used_icons)\n",
    "    image.save(f'{DIRECTORY}/{i:04d}_{filename}.png')"
   ]
  },
  {
   "cell_type": "code",
   "execution_count": null,
   "metadata": {},
   "outputs": [],
   "source": []
  }
 ],
 "metadata": {
  "kernelspec": {
   "display_name": "Python 3",
   "language": "python",
   "name": "python3"
  },
  "language_info": {
   "codemirror_mode": {
    "name": "ipython",
    "version": 3
   },
   "file_extension": ".py",
   "mimetype": "text/x-python",
   "name": "python",
   "nbconvert_exporter": "python",
   "pygments_lexer": "ipython3",
   "version": "3.7.1"
  }
 },
 "nbformat": 4,
 "nbformat_minor": 2
}
