{
 "cells": [
  {
   "cell_type": "code",
   "execution_count": null,
   "metadata": {},
   "outputs": [],
   "source": [
    "import os\n",
    "import math\n",
    "import torch\n",
    "from torch.autograd import Variable\n",
    "from torch.optim import Adam\n",
    "from torch import nn\n",
    "import torch.nn.functional as F\n",
    "from torchvision import transforms, models\n",
    "from torch.utils.data import DataLoader, random_split, Dataset\n",
    "from PIL import Image\n",
    "import time\n",
    "import copy\n",
    "from datetime import datetime\n",
    "import sys\n",
    "import cv2\n",
    "sys.path.append(\"..\")\n",
    "from training_loop import train_model_multi_class"
   ]
  },
  {
   "cell_type": "code",
   "execution_count": null,
   "metadata": {},
   "outputs": [],
   "source": [
    "BATCH_SIZE = 20\n",
    "LABELS = sorted([i[:-4] for i in os.listdir('icons')])\n",
    "NUM_CLASSES = len(LABELS)"
   ]
  },
  {
   "cell_type": "code",
   "execution_count": null,
   "metadata": {},
   "outputs": [],
   "source": [
    "import numpy as np\n",
    "import collections\n",
    "\n",
    "class GaussianNoise(object):\n",
    "    \"\"\"\n",
    "    Add gaussian noise to a numpy.ndarray (H x W x C)\n",
    "    \"\"\"\n",
    "    def __init__(self, mean, sigma, random_state=np.random):\n",
    "        self.sigma = sigma\n",
    "        self.mean = mean\n",
    "        self.random_state = random_state\n",
    "\n",
    "    def __call__(self, image):\n",
    "        row, col, ch = image.shape\n",
    "        gauss = self.random_state.normal(self.mean, self.sigma, (row, col, ch))\n",
    "        gauss = gauss.reshape(row, col, ch)\n",
    "        image += torch.from_numpy(gauss).float()\n",
    "        return image"
   ]
  },
  {
   "cell_type": "code",
   "execution_count": null,
   "metadata": {},
   "outputs": [],
   "source": [
    "def remove_background(image):\n",
    "    image = np.array(image)\n",
    "    hsv = cv2.cvtColor(image, cv2.COLOR_BGR2HSV)\n",
    "\n",
    "    l_h = 0\n",
    "    u_h = 179\n",
    "    l_s = 0\n",
    "    u_s = 60\n",
    "    l_v = 0\n",
    "    u_v = 255\n",
    "\n",
    "    lower_green = np.array([l_h, l_s, l_v])\n",
    "    upper_green = np.array([u_h, u_s, u_v])\n",
    "\n",
    "    mask = cv2.inRange(hsv, lower_green, upper_green)\n",
    "    mask_inv = cv2.bitwise_not(mask)\n",
    "\n",
    "    fg = cv2.bitwise_and(image, image, mask=mask_inv)\n",
    "    return Image.fromarray(fg)"
   ]
  },
  {
   "cell_type": "code",
   "execution_count": null,
   "metadata": {},
   "outputs": [],
   "source": [
    "class IconsDataset(Dataset):\n",
    "    def __init__(self, directory, labels, transform=None):\n",
    "        self.directory = directory\n",
    "        self.files = os.listdir(directory)[:10000]\n",
    "        self.labels = labels\n",
    "        self.transform = transform\n",
    "\n",
    "    def __getitem__(self, index):\n",
    "        f = self.files[index]\n",
    "        # image\n",
    "        image = Image.open(os.path.join(self.directory, f))\n",
    "        if self.transform:\n",
    "            image = self.transform(image)\n",
    "        \n",
    "        # labels    \n",
    "        label_strings = f[:-4].split('_')\n",
    "        labels = []\n",
    "        for l in LABELS:\n",
    "            if l in label_strings:\n",
    "                labels.append(1.0)\n",
    "            else:\n",
    "                labels.append(0.0)\n",
    "        return image, torch.tensor(labels, dtype=torch.float)\n",
    "    \n",
    "    def __len__(self):\n",
    "        return len(self.files)\n",
    "\n",
    "\n",
    "def load_dataset():\n",
    "    transform = transforms.Compose([\n",
    "        transforms.ColorJitter(brightness=0.3, contrast=0.3, saturation=0.3, hue=0.0),\n",
    "        remove_background,\n",
    "        transforms.ToTensor(),\n",
    "        transforms.Normalize(mean=[0.485, 0.456, 0.406], std=[0.229, 0.224, 0.225]),\n",
    "    ])\n",
    "    \n",
    "    d = IconsDataset('images_224/', LABELS, transform=transform)\n",
    "    size = len(d)\n",
    "    train, validate = random_split(d, [int(size * 0.8), int(size * 0.2)])\n",
    "    \n",
    "    loader = DataLoader(train, batch_size=BATCH_SIZE)\n",
    "    validation_loader = DataLoader(validate, batch_size=BATCH_SIZE)\n",
    "\n",
    "    return loader, validation_loader"
   ]
  },
  {
   "cell_type": "code",
   "execution_count": null,
   "metadata": {
    "scrolled": false
   },
   "outputs": [],
   "source": [
    "device = torch.device(\"cuda:0\" if torch.cuda.is_available() else \"cpu\")\n",
    "model = models.resnet18(pretrained=False)\n",
    "model.fc = nn.Linear(512, NUM_CLASSES)\n",
    "\n",
    "#state_dict = torch.load('vl_0.05622.pth')\n",
    "#model.load_state_dict(state_dict)\n",
    "\n",
    "model = model.to(device)\n",
    "\n",
    "loader, validation_loader = load_dataset()\n",
    "criterion = nn.BCEWithLogitsLoss()\n",
    "optimizer = Adam(params=model.parameters(), lr=0.0001)\n",
    "train_model_multi_class(\n",
    "    'resnet18_4_reduced_colorjitter_no_background',\n",
    "    model,\n",
    "    {'train': loader, 'val': validation_loader},\n",
    "    criterion,\n",
    "    optimizer,\n",
    "    device,\n",
    "    num_epochs=1000\n",
    ")"
   ]
  }
 ],
 "metadata": {
  "kernelspec": {
   "display_name": "Python 3",
   "language": "python",
   "name": "python3"
  },
  "language_info": {
   "codemirror_mode": {
    "name": "ipython",
    "version": 3
   },
   "file_extension": ".py",
   "mimetype": "text/x-python",
   "name": "python",
   "nbconvert_exporter": "python",
   "pygments_lexer": "ipython3",
   "version": "3.7.1"
  }
 },
 "nbformat": 4,
 "nbformat_minor": 2
}
