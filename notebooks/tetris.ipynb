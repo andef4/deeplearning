{
 "cells": [
  {
   "cell_type": "markdown",
   "metadata": {},
   "source": [
    "based on Tetris implementation in Python, (c) 2010 \"Kevin Chabowski\"<kevin@kch42.de>\n",
    "\n",
    "https://gist.github.com/silvasur/565419/d9de6a84e7da000797ac681976442073045c74a4"
   ]
  },
  {
   "cell_type": "code",
   "execution_count": null,
   "metadata": {},
   "outputs": [],
   "source": [
    "import torch\n",
    "from torch.autograd import Variable\n",
    "from torch.optim import Adam\n",
    "from torch import nn\n",
    "import torch.nn.functional as F\n",
    "from torchvision.datasets import mnist\n",
    "from torchvision import transforms\n",
    "from torch.utils.data import DataLoader"
   ]
  },
  {
   "cell_type": "code",
   "execution_count": null,
   "metadata": {},
   "outputs": [],
   "source": [
    "NUM_CLASSES = 4 # turn left, turn right, move left, move right\n",
    "LEARING_RATE = 0.001\n",
    "COLUMNS = 8\n",
    "ROWS = 16\n",
    "\n",
    "input_size = COLUMNS * ROWS * 2"
   ]
  },
  {
   "cell_type": "code",
   "execution_count": null,
   "metadata": {},
   "outputs": [],
   "source": [
    "HIDDEN_SIZE = 50\n",
    "\n",
    "class Model2Linear(nn.Module):\n",
    "    def __init__(self):\n",
    "        super().__init__()\n",
    "        self.h1 = nn.Linear(input_size, HIDDEN_SIZE)\n",
    "        self.h2 = nn.Linear(HIDDEN_SIZE, HIDDEN_SIZE)\n",
    "        self.h3 = nn.Linear(HIDDEN_SIZE, NUM_CLASSES)\n",
    "    \n",
    "    def forward(self, x):\n",
    "        x = x.data.view(-1, input_size)\n",
    "        x = self.h1(x)\n",
    "        x = F.relu(x)\n",
    "        x = self.h2(x)\n",
    "        x = F.relu(x)\n",
    "        x = self.h3(x)\n",
    "        x = F.softmax(x, dim=1)\n",
    "        return x"
   ]
  },
  {
   "cell_type": "code",
   "execution_count": 1,
   "metadata": {},
   "outputs": [],
   "source": [
    "def rotate_clockwise(shape):\n",
    "    return [[shape[y][x]\n",
    "             for y in range(len(shape))]\n",
    "            for x in range(len(shape[0]) - 1, -1, -1)]\n",
    "\n",
    "\n",
    "def check_collision(board, shape, offset):\n",
    "    off_x, off_y = offset\n",
    "    for cy, row in enumerate(shape):\n",
    "        for cx, cell in enumerate(row):\n",
    "            try:\n",
    "                if cell and board[cy + off_y][cx + off_x]:\n",
    "                    return True\n",
    "            except IndexError:\n",
    "                return True\n",
    "    return False\n",
    "\n",
    "\n",
    "def remove_row(board, row):\n",
    "    del board[row]\n",
    "    return [[0 for i in range(config['cols'])]] + board\n",
    "\n",
    "\n",
    "def join_matrixes(mat1, mat2, mat2_off):\n",
    "    off_x, off_y = mat2_off\n",
    "    for cy, row in enumerate(mat2):\n",
    "        for cx, val in enumerate(row):\n",
    "            mat1[cy + off_y - 1][cx + off_x] += val\n",
    "    return mat1\n",
    "\n",
    "\n",
    "def new_board():\n",
    "    board = [[0 for x in range(config['cols'])]\n",
    "             for y in range(config['rows'])]\n",
    "    board += [[1 for x in range(config['cols'])]]\n",
    "    return board"
   ]
  },
  {
   "cell_type": "code",
   "execution_count": 1,
   "metadata": {},
   "outputs": [],
   "source": [
    "class TetrisState():\n",
    "    def move_left(self):\n",
    "        pass\n",
    "\n",
    "    def move_right(self):\n",
    "        pass\n",
    "\n",
    "    def turn_left(self):\n",
    "        pass\n",
    "\n",
    "    def turn_right(self):\n",
    "        pass\n",
    "\n",
    "    def next_state(self):\n",
    "        return TetrisState()\n",
    "    \n",
    "    def rewards(self):\n",
    "        pass\n",
    "    \n",
    "    def input(self):\n",
    "        pass\n"
   ]
  },
  {
   "cell_type": "code",
   "execution_count": null,
   "metadata": {
    "scrolled": false
   },
   "outputs": [],
   "source": [
    "def evalulate(model):\n",
    "    model.eval()\n",
    "    loss = 0.0\n",
    "    for data, labels in validation_loader:\n",
    "        predictions_per_class = model(data.cuda())\n",
    "        _, highest_prediction_class = predictions_per_class.max(1)\n",
    "        loss += F.nll_loss(predictions_per_class, labels.cuda())\n",
    "    return loss/len(validation_loader)\n",
    "\n",
    "def learn():\n",
    "    model = Model1Linear().cuda()\n",
    "    optimizer = Adam(params=model.parameters(), lr=LEARING_RATE)\n",
    "\n",
    "    for epoch in range(1000):\n",
    "        model.train()\n",
    "        for data, labels in loader:\n",
    "            predictions_per_class = model(data.cuda())\n",
    "            highest_prediction, highest_prediction_class = predictions_per_class.max(1)\n",
    "\n",
    "            # how good are we? compare output with the target classes\n",
    "            loss = F.nll_loss(predictions_per_class, labels.cuda())\n",
    "\n",
    "            model.zero_grad() # ???\n",
    "            loss.backward() # backpropagate\n",
    "            optimizer.step()\n",
    "        \n",
    "        validation_loss = evalulate(model)\n",
    "        print(f'Epoch: {epoch}, Loss: {validation_loss.item()}')\n",
    "        \n",
    "    return model\n",
    "%time model = learn()"
   ]
  }
 ],
 "metadata": {
  "kernelspec": {
   "display_name": "Python 3",
   "language": "python",
   "name": "python3"
  },
  "language_info": {
   "codemirror_mode": {
    "name": "ipython",
    "version": 3
   },
   "file_extension": ".py",
   "mimetype": "text/x-python",
   "name": "python",
   "nbconvert_exporter": "python",
   "pygments_lexer": "ipython3",
   "version": "3.7.1"
  }
 },
 "nbformat": 4,
 "nbformat_minor": 2
}
