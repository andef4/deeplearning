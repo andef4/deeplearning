{
 "cells": [
  {
   "cell_type": "code",
   "execution_count": 1,
   "metadata": {},
   "outputs": [],
   "source": [
    "import torch\n",
    "from torch.autograd import Variable\n",
    "from torch.optim import Adam\n",
    "from torch import nn\n",
    "import torch.nn.functional as F\n",
    "from torchvision.datasets import mnist\n",
    "from torchvision import transforms\n",
    "from torch.utils.data import DataLoader"
   ]
  },
  {
   "cell_type": "code",
   "execution_count": 2,
   "metadata": {},
   "outputs": [],
   "source": [
    "NUM_CLASSES = 10\n",
    "BATCH_SIZE = 50\n",
    "LEARING_RATE = 0.001"
   ]
  },
  {
   "cell_type": "code",
   "execution_count": 3,
   "metadata": {},
   "outputs": [],
   "source": [
    "class Flatten(object):\n",
    "    def __call__(self, data):\n",
    "        return data.view(-1)"
   ]
  },
  {
   "cell_type": "code",
   "execution_count": 4,
   "metadata": {},
   "outputs": [],
   "source": [
    "data_transform = transforms.Compose([\n",
    "    transforms.ToTensor(),\n",
    "    Flatten()\n",
    "])\n",
    "# train set\n",
    "dataset = mnist.MNIST('./data/', train=True, download=True, transform=data_transform)\n",
    "loader = DataLoader(dataset, batch_size=BATCH_SIZE)\n",
    "\n",
    "# validation set\n",
    "validation_dataset = mnist.MNIST('./data/', train=False, download=True, transform=data_transform)\n",
    "validation_loader = DataLoader(dataset, batch_size=BATCH_SIZE)"
   ]
  },
  {
   "cell_type": "code",
   "execution_count": 5,
   "metadata": {
    "scrolled": false
   },
   "outputs": [],
   "source": [
    "# input_size\n",
    "data, _ = next(iter(loader))\n",
    "input_size = len(data[0])  # flatten 28x28 tensor to 1x784 tensor"
   ]
  },
  {
   "cell_type": "code",
   "execution_count": 6,
   "metadata": {},
   "outputs": [],
   "source": [
    "HIDDEN_SIZE = 100\n",
    "\n",
    "class Model(nn.Module):\n",
    "    def __init__(self):\n",
    "        super().__init__()\n",
    "        self.h1 = nn.Linear(input_size, HIDDEN_SIZE)\n",
    "        self.h2 = nn.Linear(HIDDEN_SIZE, NUM_CLASSES)\n",
    "    \n",
    "    def forward(self, x):\n",
    "        x = self.h1(x)\n",
    "        x = F.relu(x)\n",
    "        x = self.h2(x)\n",
    "        x = F.softmax(x, dim=1)\n",
    "        return x"
   ]
  },
  {
   "cell_type": "code",
   "execution_count": 7,
   "metadata": {},
   "outputs": [],
   "source": [
    "model = Model()\n",
    "optimizer = Adam(params=model.parameters(), lr=LEARING_RATE)\n",
    "\n",
    "for epoch in range(10):\n",
    "    for data, labels in loader:\n",
    "        predictions_per_class = model(data)\n",
    "        highest_prediction, highest_prediction_class = predictions_per_class.max(1)\n",
    "\n",
    "        # how good are we? compare output with the target classes\n",
    "        loss = F.nll_loss(predictions_per_class, labels)\n",
    "\n",
    "        model.zero_grad() # ???\n",
    "        loss.backward() # backpropagate\n",
    "        optimizer.step()"
   ]
  },
  {
   "cell_type": "code",
   "execution_count": 8,
   "metadata": {},
   "outputs": [
    {
     "name": "stdout",
     "output_type": "stream",
     "text": [
      "tensor(-0.9774, grad_fn=<DivBackward0>)\n"
     ]
    }
   ],
   "source": [
    "loss = 0.0\n",
    "for data, labels in validation_loader:\n",
    "    predictions_per_class = model(data)\n",
    "    _, highest_prediction_class = predictions_per_class.max(1)\n",
    "    loss += F.nll_loss(predictions_per_class, labels)\n",
    "\n",
    "print(loss/len(validation_loader))"
   ]
  },
  {
   "cell_type": "code",
   "execution_count": null,
   "metadata": {},
   "outputs": [],
   "source": []
  }
 ],
 "metadata": {
  "kernelspec": {
   "display_name": "Python 3",
   "language": "python",
   "name": "python3"
  },
  "language_info": {
   "codemirror_mode": {
    "name": "ipython",
    "version": 3
   },
   "file_extension": ".py",
   "mimetype": "text/x-python",
   "name": "python",
   "nbconvert_exporter": "python",
   "pygments_lexer": "ipython3",
   "version": "3.7.0"
  }
 },
 "nbformat": 4,
 "nbformat_minor": 2
}
