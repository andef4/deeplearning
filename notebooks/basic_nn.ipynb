{
 "cells": [
  {
   "cell_type": "code",
   "execution_count": 1,
   "metadata": {},
   "outputs": [],
   "source": [
    "import torch\n",
    "from torch.autograd import Variable\n",
    "from torch.optim import Adam\n",
    "from torch import nn\n",
    "import torch.nn.functional as F"
   ]
  },
  {
   "cell_type": "code",
   "execution_count": 2,
   "metadata": {},
   "outputs": [],
   "source": [
    "INPUT_SIZE = 10\n",
    "HIDDEN_SIZE = 100\n",
    "NUM_CLASSES = 5\n",
    "BATCH_SIZE = 5\n",
    "LEARING_RATE = 0.001"
   ]
  },
  {
   "cell_type": "code",
   "execution_count": 3,
   "metadata": {},
   "outputs": [
    {
     "data": {
      "text/plain": [
       "<torch._C.Generator at 0x7f3e427b92f0>"
      ]
     },
     "execution_count": 3,
     "metadata": {},
     "output_type": "execute_result"
    }
   ],
   "source": [
    "# random always generate the same numbers on every run\n",
    "torch.manual_seed(1)"
   ]
  },
  {
   "cell_type": "code",
   "execution_count": 4,
   "metadata": {},
   "outputs": [],
   "source": [
    "# random input\n",
    "input = Variable(torch.rand(BATCH_SIZE, INPUT_SIZE))"
   ]
  },
  {
   "cell_type": "code",
   "execution_count": 5,
   "metadata": {},
   "outputs": [],
   "source": [
    "# add random classes corresponding to the input above\n",
    "# * NUM_CLASSES scales the generated 0.0 - 1.0 values to 0.0 - 5.0\n",
    "# .long() converts the values to integers (python ints aka longs)\n",
    "target = Variable((torch.rand(BATCH_SIZE) * NUM_CLASSES).long())"
   ]
  },
  {
   "cell_type": "code",
   "execution_count": 26,
   "metadata": {},
   "outputs": [],
   "source": [
    "class Model(nn.Module):\n",
    "    def __init__(self):\n",
    "        super().__init__()\n",
    "        self.h1 = nn.Linear(INPUT_SIZE, HIDDEN_SIZE)\n",
    "        self.h2 = nn.Linear(HIDDEN_SIZE, NUM_CLASSES)\n",
    "    \n",
    "    def forward(self, x):\n",
    "        x = self.h1(x)\n",
    "        x = F.relu(x)\n",
    "        x = self.h2(x)\n",
    "        x = F.softmax(x, dim=1)\n",
    "        return x"
   ]
  },
  {
   "cell_type": "code",
   "execution_count": 27,
   "metadata": {},
   "outputs": [
    {
     "name": "stdout",
     "output_type": "stream",
     "text": [
      "tensor([0, 1, 3, 1, 4])\n",
      "tensor([0, 1, 3, 1, 4])\n",
      "tensor(-0.9988, grad_fn=<NllLossBackward>)\n"
     ]
    }
   ],
   "source": [
    "model = Model()\n",
    "optimizer = Adam(params=model.parameters(), lr=LEARING_RATE)\n",
    "\n",
    "for i in range(1000):\n",
    "    predictions_per_class = model(input)\n",
    "    highest_prediction, highest_prediction_class = predictions_per_class.max(1)\n",
    "\n",
    "    # how good are we? compare output with the target classes\n",
    "    loss = F.nll_loss(predictions_per_class, target)\n",
    "\n",
    "    model.zero_grad() # ???\n",
    "    loss.backward() # backpropagate\n",
    "    optimizer.step()\n",
    "\n",
    "print(target)\n",
    "print(highest_prediction_class)\n",
    "print(loss)"
   ]
  },
  {
   "cell_type": "code",
   "execution_count": null,
   "metadata": {},
   "outputs": [],
   "source": []
  }
 ],
 "metadata": {
  "kernelspec": {
   "display_name": "Python 3",
   "language": "python",
   "name": "python3"
  },
  "language_info": {
   "codemirror_mode": {
    "name": "ipython",
    "version": 3
   },
   "file_extension": ".py",
   "mimetype": "text/x-python",
   "name": "python",
   "nbconvert_exporter": "python",
   "pygments_lexer": "ipython3",
   "version": "3.7.0"
  }
 },
 "nbformat": 4,
 "nbformat_minor": 2
}
