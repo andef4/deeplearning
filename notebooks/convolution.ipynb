{
 "cells": [
  {
   "cell_type": "code",
   "execution_count": 1,
   "metadata": {},
   "outputs": [],
   "source": [
    "import torch\n",
    "from torch.autograd import Variable\n",
    "from torch.optim import Adam\n",
    "from torch import nn\n",
    "import torch.nn.functional as F\n",
    "from torchvision.datasets import mnist\n",
    "from torchvision import transforms\n",
    "from torch.utils.data import DataLoader"
   ]
  },
  {
   "cell_type": "code",
   "execution_count": 135,
   "metadata": {},
   "outputs": [],
   "source": [
    "input = torch.Tensor([[[[0.1, 0.15, 0.2, 0.25],\n",
    "                        [0.3, 0.35, 0.4, 0.45],\n",
    "                        [0.5, 0.55, 0.6, 0.65],\n",
    "                        [0.7, 0.75, 0.8, 0.85]]]])\n",
    "data = input[0][0]\n",
    "\n",
    "weights_tensor = torch.Tensor([[[[0.5, 0.5, 0.5],\n",
    "                          [0.5, 0.5, 0.5],\n",
    "                          [0.5, 0.5, 0.5]]]])\n",
    "weights = weights_tensor[0][0]"
   ]
  },
  {
   "cell_type": "code",
   "execution_count": 134,
   "metadata": {},
   "outputs": [
    {
     "data": {
      "text/plain": [
       "tensor([[[[1.5750, 1.8000],\n",
       "          [2.4750, 2.7000]]]])"
      ]
     },
     "execution_count": 134,
     "metadata": {},
     "output_type": "execute_result"
    }
   ],
   "source": [
    "conv = nn.Conv2d(in_channels=1, out_channels=1, kernel_size=3, bias=False)\n",
    "conv._parameters['weight'] = weights_tensor\n",
    "conv(input)"
   ]
  },
  {
   "cell_type": "code",
   "execution_count": 137,
   "metadata": {},
   "outputs": [
    {
     "data": {
      "text/plain": [
       "tensor([[1.5750, 1.8000],\n",
       "        [2.4750, 2.7000]])"
      ]
     },
     "execution_count": 137,
     "metadata": {},
     "output_type": "execute_result"
    }
   ],
   "source": [
    "# manually calculate the convolution\n",
    "# iterate over matrix (x, y direction), take submatrices with dimensions kernel_size\n",
    "# => this gives us 4 submatrices\n",
    "# matrix muliplicate each submatrix with the convolution weights and sum up the result\n",
    "torch.Tensor([[sum((data[0:3, 0:3] * weights).flatten()), sum((data[0:3, 1:4] * weights).flatten())],\n",
    "              [sum((data[1:4, 0:3] * weights).flatten()), sum((data[1:4, 1:4] * weights).flatten())]])"
   ]
  }
 ],
 "metadata": {
  "kernelspec": {
   "display_name": "Python 3",
   "language": "python",
   "name": "python3"
  },
  "language_info": {
   "codemirror_mode": {
    "name": "ipython",
    "version": 3
   },
   "file_extension": ".py",
   "mimetype": "text/x-python",
   "name": "python",
   "nbconvert_exporter": "python",
   "pygments_lexer": "ipython3",
   "version": "3.7.1"
  }
 },
 "nbformat": 4,
 "nbformat_minor": 2
}
