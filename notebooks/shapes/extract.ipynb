{
 "cells": [
  {
   "cell_type": "code",
   "execution_count": 1,
   "metadata": {},
   "outputs": [],
   "source": [
    "import os\n",
    "import zipfile\n",
    "import shutil"
   ]
  },
  {
   "cell_type": "code",
   "execution_count": 2,
   "metadata": {
    "scrolled": false
   },
   "outputs": [],
   "source": [
    "!mkdir -p stls\n",
    "files = os.listdir('zips')\n",
    "for f in files:\n",
    "    id = f[:-4]\n",
    "    directory = f'stls/{id}/'\n",
    "    # skip already extracted files\n",
    "    if os.path.exists(directory):\n",
    "        continue\n",
    "    os.mkdir(directory)\n",
    "\n",
    "    zf = zipfile.ZipFile(f'zips/{f}')\n",
    "    for name in zf.namelist():\n",
    "        if not name.lower().endswith('stl'):\n",
    "            continue\n",
    "        basename = os.path.basename(name)\n",
    "        with zf.open(name) as in_file:\n",
    "            with open(f'{directory}{basename}', 'wb') as out_file:\n",
    "                shutil.copyfileobj(in_file, out_file)"
   ]
  },
  {
   "cell_type": "code",
   "execution_count": null,
   "metadata": {},
   "outputs": [],
   "source": []
  }
 ],
 "metadata": {
  "kernelspec": {
   "display_name": "Python 3",
   "language": "python",
   "name": "python3"
  },
  "language_info": {
   "codemirror_mode": {
    "name": "ipython",
    "version": 3
   },
   "file_extension": ".py",
   "mimetype": "text/x-python",
   "name": "python",
   "nbconvert_exporter": "python",
   "pygments_lexer": "ipython3",
   "version": "3.7.1"
  }
 },
 "nbformat": 4,
 "nbformat_minor": 2
}
