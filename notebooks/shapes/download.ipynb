{
 "cells": [
  {
   "cell_type": "code",
   "execution_count": 11,
   "metadata": {},
   "outputs": [],
   "source": [
    "import requests\n",
    "import urllib.request\n",
    "import os\n",
    "import datetime\n",
    "access_token = '8bf2298b146d2493bb53eb9489109f6a'"
   ]
  },
  {
   "cell_type": "code",
   "execution_count": null,
   "metadata": {
    "scrolled": false
   },
   "outputs": [
    {
     "name": "stdout",
     "output_type": "stream",
     "text": [
      "Page: 11\n",
      "  Thing: 713815\n",
      "  Thing: 2254103\n",
      "  Thing: 1797006\n",
      "  Thing: 1661962\n",
      "  Thing: 3280207\n",
      "  Thing: 919475\n",
      "  Thing: 338808\n",
      "  Thing: 1182945\n",
      "  Thing: 3128783\n",
      "  Thing: 3046847\n",
      "  Thing: 1454048\n",
      "  Thing: 3200840\n",
      "  Thing: 3129886\n",
      "  Thing: 1015178\n",
      "  Thing: 3201827\n",
      "  Thing: 1082508\n",
      "  Thing: 3268797\n",
      "  Thing: 3075149\n"
     ]
    }
   ],
   "source": [
    "f = open(f'{datetime.datetime.now().isoformat()}_download.txt', 'w', buffering=1)\n",
    "\n",
    "for page in range(11, 100):\n",
    "    print(f'Page: {page}')\n",
    "    f.write(f'Page: {page}\\n')\n",
    "    response = requests.get('https://api.thingiverse.com/popular', params={'access_token': access_token, 'page': page})\n",
    "    for thing in response.json():\n",
    "        id = thing['id']\n",
    "        print(f'  Thing: {id}')\n",
    "        f.write(f'  Thing: {id}\\n')\n",
    "        try:\n",
    "            urllib.request.urlretrieve(f'https://www.thingiverse.com/thing:{id}/zip', f'zips/{id}.zip')\n",
    "        except Exception as ex:\n",
    "            print(ex)"
   ]
  },
  {
   "cell_type": "code",
   "execution_count": null,
   "metadata": {},
   "outputs": [],
   "source": []
  }
 ],
 "metadata": {
  "kernelspec": {
   "display_name": "Python 3",
   "language": "python",
   "name": "python3"
  },
  "language_info": {
   "codemirror_mode": {
    "name": "ipython",
    "version": 3
   },
   "file_extension": ".py",
   "mimetype": "text/x-python",
   "name": "python",
   "nbconvert_exporter": "python",
   "pygments_lexer": "ipython3",
   "version": "3.7.1"
  }
 },
 "nbformat": 4,
 "nbformat_minor": 2
}
