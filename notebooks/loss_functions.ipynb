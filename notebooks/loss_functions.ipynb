{
 "cells": [
  {
   "cell_type": "code",
   "execution_count": 1,
   "metadata": {},
   "outputs": [],
   "source": [
    "import torch\n",
    "from torch import nn"
   ]
  },
  {
   "cell_type": "code",
   "execution_count": 2,
   "metadata": {},
   "outputs": [
    {
     "name": "stdout",
     "output_type": "stream",
     "text": [
      "0.0\n",
      "9.21034049987793\n",
      "9.21034049987793\n",
      "27.63102149963379\n"
     ]
    }
   ],
   "source": [
    "loss = nn.BCELoss()\n",
    "input = torch.tensor([0.0, 1.0, 0.0], requires_grad=True)\n",
    "targets = [\n",
    "    [0.0, 1.0, 0.0], # 100% correct\n",
    "    [0.0, 0.0, 0.0], # one incorrect\n",
    "    [0.0, 1.0, 1.0], # one incorrect\n",
    "    [1.0, 0.0, 1.0], # everything incorrect\n",
    "]\n",
    "for target in targets:\n",
    "    target = torch.tensor(target)\n",
    "    output = loss(input, target)\n",
    "    output.backward()\n",
    "    print(output.item())"
   ]
  },
  {
   "cell_type": "code",
   "execution_count": 3,
   "metadata": {},
   "outputs": [
    {
     "name": "stdout",
     "output_type": "stream",
     "text": [
      "0.0\n",
      "0.3333333432674408\n",
      "1.3333333730697632\n"
     ]
    }
   ],
   "source": [
    "loss = nn.MultiLabelMarginLoss()\n",
    "input = torch.tensor([0.0, 1.0, 0.0], requires_grad=True)\n",
    "targets = [\n",
    "    # the target (labels) is the expected index\n",
    "    # target must the same length as classes, if there are not all classes in the output,\n",
    "    # a negative number can be used which is then ignored.\n",
    "    [1, -1, -1], # 100% correct\n",
    "    [1, 2, -1], # one incorrect\n",
    "    [0, 2, -1], # everything incorrect\n",
    "]\n",
    "for target in targets:\n",
    "    target = torch.tensor(target)\n",
    "    output = loss(input, target)\n",
    "    output.backward()\n",
    "    print(output.item())"
   ]
  }
 ],
 "metadata": {
  "kernelspec": {
   "display_name": "Python 3",
   "language": "python",
   "name": "python3"
  },
  "language_info": {
   "codemirror_mode": {
    "name": "ipython",
    "version": 3
   },
   "file_extension": ".py",
   "mimetype": "text/x-python",
   "name": "python",
   "nbconvert_exporter": "python",
   "pygments_lexer": "ipython3",
   "version": "3.7.1"
  }
 },
 "nbformat": 4,
 "nbformat_minor": 2
}
