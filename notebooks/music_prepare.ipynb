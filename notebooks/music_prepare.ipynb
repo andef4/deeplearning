{
 "cells": [
  {
   "cell_type": "code",
   "execution_count": null,
   "metadata": {},
   "outputs": [],
   "source": [
    "!pip install python-slugify"
   ]
  },
  {
   "cell_type": "code",
   "execution_count": null,
   "metadata": {},
   "outputs": [],
   "source": [
    "import os\n",
    "import random\n",
    "from slugify import slugify"
   ]
  },
  {
   "cell_type": "code",
   "execution_count": null,
   "metadata": {},
   "outputs": [],
   "source": [
    "from rock_artists import artists as rock_artists\n",
    "from electro_artists import artists as electro_artists\n",
    "DIRECTORY = '/media/corn/261A6D4A297FE9A1/old_disk/data1/musik'"
   ]
  },
  {
   "cell_type": "code",
   "execution_count": null,
   "metadata": {
    "scrolled": false
   },
   "outputs": [],
   "source": [
    "directories = !find $DIRECTORY -maxdepth 1 -type d\n",
    "directories = [f.replace(f'{DIRECTORY}/', '') for f in directories][1:]"
   ]
  },
  {
   "cell_type": "code",
   "execution_count": null,
   "metadata": {},
   "outputs": [],
   "source": [
    "from collections import defaultdict\n",
    "\n",
    "\n",
    "def convert(files, artists, out_directory):\n",
    "    genre_files = defaultdict(lambda: list())\n",
    "    for f in files:\n",
    "        artist = f.split('/')[0]\n",
    "        if artist in artists:\n",
    "            genre_files[artist].append(f)\n",
    "\n",
    "    for i in range(0, 500):\n",
    "        artist, files = random.choice(list(genre_files.items()))\n",
    "        song = random.choice(files)\n",
    "        files.remove(song)\n",
    "        if len(files) == 0:\n",
    "            del genre_files[artist]\n",
    "        source = f'{DIRECTORY}/{song}'\n",
    "        dest = f'{out_directory}/{slugify(song)}.wav'\n",
    "        !ffmpeg -i \"$source\" -ss 60 -t 10 -ac 1 \"$dest\"\n"
   ]
  },
  {
   "cell_type": "code",
   "execution_count": null,
   "metadata": {},
   "outputs": [],
   "source": [
    "!rm -rf electro\n",
    "!mkdir electro\n",
    "\n",
    "files = !find $DIRECTORY -type f\n",
    "files = [f.replace(f'{DIRECTORY}/', '') for f in files][1:]\n",
    "\n",
    "convert(files, electro_artists, 'electro')"
   ]
  },
  {
   "cell_type": "code",
   "execution_count": null,
   "metadata": {},
   "outputs": [],
   "source": [
    "!rm -rf rock\n",
    "!mkdir rock\n",
    "\n",
    "files = !find $DIRECTORY -type f\n",
    "files = [f.replace(f'{DIRECTORY}/', '') for f in files][1:]\n",
    "\n",
    "convert(files, rock_artists, 'rock')"
   ]
  },
  {
   "cell_type": "code",
   "execution_count": null,
   "metadata": {},
   "outputs": [],
   "source": [
    "!rm -rf classic\n",
    "!mkdir classic\n",
    "\n",
    "CLASSIC_DIRECTORY = '/home/corn/Downloads/GRANDES COMPOSITORES DA MUSICA CLASSICA'\n",
    "files = !find \"$CLASSIC_DIRECTORY\" -type f\n",
    "files = [f.replace(f'{CLASSIC_DIRECTORY}/', '') for f in files][1:]\n",
    "random.shuffle(files)\n",
    "for song in files[:400]:\n",
    "    source = f'{CLASSIC_DIRECTORY}/{song}'\n",
    "    dest = f'classic/{slugify(song)}.wav'\n",
    "    !ffmpeg -i \"$source\" -ss 60 -t 10 -ac 1 \"$dest\""
   ]
  }
 ],
 "metadata": {
  "kernelspec": {
   "display_name": "Python 3",
   "language": "python",
   "name": "python3"
  },
  "language_info": {
   "codemirror_mode": {
    "name": "ipython",
    "version": 3
   },
   "file_extension": ".py",
   "mimetype": "text/x-python",
   "name": "python",
   "nbconvert_exporter": "python",
   "pygments_lexer": "ipython3",
   "version": "3.7.1"
  }
 },
 "nbformat": 4,
 "nbformat_minor": 2
}
